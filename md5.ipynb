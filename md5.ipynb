{
  "nbformat": 4,
  "nbformat_minor": 0,
  "metadata": {
    "colab": {
      "name": "Untitled3.ipynb",
      "provenance": [],
      "authorship_tag": "ABX9TyOIN2Y2cpsLImNiTgG6TGxP",
      "include_colab_link": true
    },
    "kernelspec": {
      "name": "python3",
      "display_name": "Python 3"
    },
    "language_info": {
      "name": "python"
    }
  },
  "cells": [
    {
      "cell_type": "markdown",
      "metadata": {
        "id": "view-in-github",
        "colab_type": "text"
      },
      "source": [
        "<a href=\"https://colab.research.google.com/github/SandeepVarma3/shape-Ai-python/blob/main/md5.ipynb\" target=\"_parent\"><img src=\"https://colab.research.google.com/assets/colab-badge.svg\" alt=\"Open In Colab\"/></a>"
      ]
    },
    {
      "cell_type": "code",
      "metadata": {
        "id": "JCc6OoCY7B4u"
      },
      "source": [
        ""
      ],
      "execution_count": null,
      "outputs": []
    },
    {
      "cell_type": "markdown",
      "metadata": {
        "id": "TSpM5-Y-7GpD"
      },
      "source": [
        "(1)To represent HASH in hexa decimal form"
      ]
    },
    {
      "cell_type": "code",
      "metadata": {
        "colab": {
          "base_uri": "https://localhost:8080/"
        },
        "id": "iOgM2W-k7ITT",
        "outputId": "b58981cb-f95f-4c30-ec88-73c6355408a2"
      },
      "source": [
        "import hashlib \n",
        "mystring = input('Enter string to hash: ') \n",
        "hash_obj = hashlib.md5(mystring.encode()) \n",
        "print(hash_obj.hexdigest())"
      ],
      "execution_count": 1,
      "outputs": [
        {
          "output_type": "stream",
          "text": [
            "Enter string to hash: sandeep\n",
            "00dcf16d903e5890aaba465b0b1ba51f\n"
          ],
          "name": "stdout"
        }
      ]
    },
    {
      "cell_type": "markdown",
      "metadata": {
        "id": "ay9rcA5W7cit"
      },
      "source": [
        "To represent HASH in bytes form"
      ]
    },
    {
      "cell_type": "code",
      "metadata": {
        "colab": {
          "base_uri": "https://localhost:8080/"
        },
        "id": "gzZMKM2D7kgt",
        "outputId": "762740f6-e499-4b26-c511-b62d53986d5c"
      },
      "source": [
        "import hashlib\n",
        "hash_obj = hashlib.md5(b'Hello, Python!')\n",
        "  #To generate, sequence of bytes\n",
        "print(hash_obj.digest())"
      ],
      "execution_count": 2,
      "outputs": [
        {
          "output_type": "stream",
          "text": [
            "b'\\xa0\\xafx\\x10\\xeb_\\xcb\\x84\\xc70\\xf8Q6\\x1d\\xe0j'\n"
          ],
          "name": "stdout"
        }
      ]
    },
    {
      "cell_type": "markdown",
      "metadata": {
        "id": "GKvELghX7qTP"
      },
      "source": [
        "Only md5 form"
      ]
    },
    {
      "cell_type": "code",
      "metadata": {
        "colab": {
          "base_uri": "https://localhost:8080/"
        },
        "id": "nyyjK9lu752H",
        "outputId": "3c3efa25-4220-4d7a-b086-578b19612e52"
      },
      "source": [
        "print(hash_obj)"
      ],
      "execution_count": 3,
      "outputs": [
        {
          "output_type": "stream",
          "text": [
            "<md5 HASH object @ 0x7f1cd80e9390>\n"
          ],
          "name": "stdout"
        }
      ]
    },
    {
      "cell_type": "markdown",
      "metadata": {
        "id": "1L8tf99N8HlQ"
      },
      "source": [
        "(2)ALGORITHM 1: hash with SHA-2"
      ]
    },
    {
      "cell_type": "code",
      "metadata": {
        "colab": {
          "base_uri": "https://localhost:8080/"
        },
        "id": "GvLQhjjG8ODw",
        "outputId": "2969fadd-8e5b-426a-8a84-3ead6dc662a8"
      },
      "source": [
        "import hashlib\n",
        "\n",
        "# encode it to bytes using UTF-8 encoding\n",
        "message = \"Some text to hash\".encode()\n",
        "print(\"SHA-256:\", hashlib.sha256(message).hexdigest())\n",
        "\n",
        "print(\"SHA-512:\", hashlib.sha512(message).hexdigest())"
      ],
      "execution_count": 4,
      "outputs": [
        {
          "output_type": "stream",
          "text": [
            "SHA-256: 7a86e0e93e6aa6cf49f19368ca7242e24640a988ac8e5508dfcede39fa53faa2\n",
            "SHA-512: 96fa772f72678c85bbd5d23b66d51d50f8f9824a0aba0ded624ab61fe8b602bf4e3611075fe13595d3e74c63c59f7d79241acc97888e9a7a5c791159c85c3ccd\n"
          ],
          "name": "stdout"
        }
      ]
    },
    {
      "cell_type": "markdown",
      "metadata": {
        "id": "UXaOJ30u8VUr"
      },
      "source": [
        "ALGORITHM 2: hash with SHA-3"
      ]
    },
    {
      "cell_type": "code",
      "metadata": {
        "colab": {
          "base_uri": "https://localhost:8080/"
        },
        "id": "VLl3Hmdg8YhC",
        "outputId": "e5779a16-5df1-4f1f-844c-9564bbd133c6"
      },
      "source": [
        "print(\"SHA-3-256:\", hashlib.sha3_256(message).hexdigest())\n",
        "\n",
        "print(\"SHA-3-512:\", hashlib.sha3_512(message).hexdigest())"
      ],
      "execution_count": 5,
      "outputs": [
        {
          "output_type": "stream",
          "text": [
            "SHA-3-256: d7007c1cd52f8168f22fa25ef011a5b3644bcb437efa46de34761d3340187609\n",
            "SHA-3-512: de6b4c8f7d4fd608987c123122bcc63081372d09b4bc14955bfc828335dec1246b5c6633c5b1c87d2ad2b777d713d7777819263e7ad675a3743bf2a35bc699d0\n"
          ],
          "name": "stdout"
        }
      ]
    },
    {
      "cell_type": "markdown",
      "metadata": {
        "id": "dnSYlKh88dPm"
      },
      "source": [
        "ALGORITHM 3: hash with BLAKE2"
      ]
    },
    {
      "cell_type": "code",
      "metadata": {
        "colab": {
          "base_uri": "https://localhost:8080/"
        },
        "id": "KcOQRCX08glI",
        "outputId": "1f0c6e2b-680d-4b9a-a78e-ea21a704f8c3"
      },
      "source": [
        "# 256-bit BLAKE2 (or BLAKE2s)\n",
        "print(\"BLAKE2c:\", hashlib.blake2s(message).hexdigest())\n",
        "# 512-bit BLAKE2 (or BLAKE2b)\n",
        "print(\"BLAKE2b:\", hashlib.blake2b(message).hexdigest())"
      ],
      "execution_count": 6,
      "outputs": [
        {
          "output_type": "stream",
          "text": [
            "BLAKE2c: 6889074426b5454d751547cd33ca4c64cd693f86ce69be5c951223f3af845786\n",
            "BLAKE2b: 13e2ca8f6a282f27b2022dde683490b1085b3e16a98ee77b44b25bc84a0366afe8d70a4aa47dd10e064f1f772573513d64d56e5ef646fb935c040b32f67e5ab2\n"
          ],
          "name": "stdout"
        }
      ]
    },
    {
      "cell_type": "markdown",
      "metadata": {
        "id": "kx6VA7J_8mp-"
      },
      "source": [
        "(3)salting"
      ]
    },
    {
      "cell_type": "code",
      "metadata": {
        "id": "U9e1ib458tlg"
      },
      "source": [
        "import uuid\n",
        "import hashlib\n",
        "\n",
        "def hashText(text):\n",
        "    \"\"\"\n",
        "        Basic hashing function for a text using random unique salt.  \n",
        "    \"\"\"\n",
        "    salt = uuid.uuid4().hex\n",
        "    return hashlib.sha256(salt.encode() + text.encode()).hexdigest() + ':' + salt\n",
        "    \n",
        "def matchHashedText(hashedText, providedText):\n",
        "    \"\"\"\n",
        "        Check for the text in the hashed text\n",
        "    \"\"\"\n",
        "    _hashedText, salt = hashedText.split(':')\n",
        "    return _hashedText == hashlib.sha256(salt.encode() + providedText.encode()).hexdigest()"
      ],
      "execution_count": 7,
      "outputs": []
    },
    {
      "cell_type": "code",
      "metadata": {
        "colab": {
          "base_uri": "https://localhost:8080/"
        },
        "id": "SAx54FP58xIi",
        "outputId": "0029e2aa-c949-4182-cd02-4aba0355cd41"
      },
      "source": [
        "hashText(\"text\")\n",
        "matchHashedText(hashText(\"text\"), \"text\")"
      ],
      "execution_count": 8,
      "outputs": [
        {
          "output_type": "execute_result",
          "data": {
            "text/plain": [
              "True"
            ]
          },
          "metadata": {
            "tags": []
          },
          "execution_count": 8
        }
      ]
    },
    {
      "cell_type": "markdown",
      "metadata": {
        "id": "Wi_Mf9oS83zs"
      },
      "source": [
        "(3)iterations"
      ]
    },
    {
      "cell_type": "code",
      "metadata": {
        "colab": {
          "base_uri": "https://localhost:8080/",
          "height": 37
        },
        "id": "2-dP-SWe88at",
        "outputId": "6edfb2d9-e15d-459c-e427-3267e13b1c72"
      },
      "source": [
        "from hashlib import blake2b, blake2s\n",
        "blake2b(digest_size=10).hexdigest()"
      ],
      "execution_count": 9,
      "outputs": [
        {
          "output_type": "execute_result",
          "data": {
            "application/vnd.google.colaboratory.intrinsic+json": {
              "type": "string"
            },
            "text/plain": [
              "'6fa1d8fcfd719046d762'"
            ]
          },
          "metadata": {
            "tags": []
          },
          "execution_count": 9
        }
      ]
    },
    {
      "cell_type": "code",
      "metadata": {
        "colab": {
          "base_uri": "https://localhost:8080/",
          "height": 37
        },
        "id": "s1-K-1Rj9DgK",
        "outputId": "cee28687-8eb0-4afb-a06b-f2feaa32f8da"
      },
      "source": [
        "blake2b(digest_size=11).hexdigest()"
      ],
      "execution_count": 10,
      "outputs": [
        {
          "output_type": "execute_result",
          "data": {
            "application/vnd.google.colaboratory.intrinsic+json": {
              "type": "string"
            },
            "text/plain": [
              "'eb6ec15daf9546254f0809'"
            ]
          },
          "metadata": {
            "tags": []
          },
          "execution_count": 10
        }
      ]
    },
    {
      "cell_type": "code",
      "metadata": {
        "colab": {
          "base_uri": "https://localhost:8080/",
          "height": 37
        },
        "id": "JCTLRUdG9HQM",
        "outputId": "219dac66-9101-4127-b097-bdf605876e7f"
      },
      "source": [
        "blake2s(digest_size=10).hexdigest()"
      ],
      "execution_count": 11,
      "outputs": [
        {
          "output_type": "execute_result",
          "data": {
            "application/vnd.google.colaboratory.intrinsic+json": {
              "type": "string"
            },
            "text/plain": [
              "'1bf21a98c78a1c376ae9'"
            ]
          },
          "metadata": {
            "tags": []
          },
          "execution_count": 11
        }
      ]
    },
    {
      "cell_type": "code",
      "metadata": {
        "colab": {
          "base_uri": "https://localhost:8080/",
          "height": 37
        },
        "id": "6di4M4qQ9LEL",
        "outputId": "03e6ee75-91ce-463e-ea2e-360e419062ce"
      },
      "source": [
        "blake2s(digest_size=11).hexdigest()\n",
        "\n"
      ],
      "execution_count": 12,
      "outputs": [
        {
          "output_type": "execute_result",
          "data": {
            "application/vnd.google.colaboratory.intrinsic+json": {
              "type": "string"
            },
            "text/plain": [
              "'567004bf96e4a25773ebf4'"
            ]
          },
          "metadata": {
            "tags": []
          },
          "execution_count": 12
        }
      ]
    }
  ]
}